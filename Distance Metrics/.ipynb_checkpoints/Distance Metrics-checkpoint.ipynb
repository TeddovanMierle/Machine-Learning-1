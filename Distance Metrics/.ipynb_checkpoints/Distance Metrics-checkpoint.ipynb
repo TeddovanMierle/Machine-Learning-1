{
 "cells": [
  {
   "cell_type": "code",
   "execution_count": 7,
   "metadata": {},
   "outputs": [],
   "source": [
    "import numpy as np\n",
    "import math"
   ]
  },
  {
   "cell_type": "code",
   "execution_count": 5,
   "metadata": {},
   "outputs": [],
   "source": [
    "#Origin latitude, longitude\n",
    "origin = [14.5545901,120.9981703] #Makati Coordinates\n",
    "destination = [14.1172947,120.9339132] #Tagaytay Coordinates"
   ]
  },
  {
   "cell_type": "markdown",
   "metadata": {},
   "source": [
    "### EUCLIDEAN DISTANCE"
   ]
  },
  {
   "cell_type": "code",
   "execution_count": 3,
   "metadata": {},
   "outputs": [],
   "source": [
    "def euclidean_distance(origin, destination):\n",
    "    #euclidean distance\n",
    "    distance = np.sqrt((origin[0]-destination[0])**2 +(origin[1]-destination[1])**2)\n",
    "    #multiply by 6371 KM (earth's radius) * pi/180\n",
    "    return 6371*(math.pi/180)*distance"
   ]
  },
  {
   "cell_type": "markdown",
   "metadata": {},
   "source": [
    "### THE GREAT CIRCLE DISTANCE"
   ]
  },
  {
   "cell_type": "code",
   "execution_count": 10,
   "metadata": {},
   "outputs": [],
   "source": [
    "def great_circle_distance(pickup_lat, pickup_long, dropoff_lat, dropoff_long):\n",
    "    r = 6371 #earth radius in KM\n",
    "    phi1 = np.radians(pickup_lat)\n",
    "    phi2 = np.radians(dropoff_lat)\n",
    "    delta_phi = np.radians(dropoff_lat - pickup_lat)\n",
    "    delta_lambda = np.radians(dropoff_long - pickup_long)\n",
    "    a = np.sin(delta_phi / 2)**2 + np.cos(phi1) * np.cos(phi2) *   np.sin(delta_lambda / 2)**2\n",
    "    res = r * (2 * np.arctan2(np.sqrt(a), np.sqrt(1 - a)))\n",
    "    return np.round(res, 2)"
   ]
  },
  {
   "cell_type": "markdown",
   "metadata": {},
   "source": [
    "### MANHATTAN OR TAXICAB DISTANCE"
   ]
  },
  {
   "cell_type": "code",
   "execution_count": 8,
   "metadata": {},
   "outputs": [],
   "source": [
    "def manhattan_distance(pickup_lat, pickup_long, dropoff_lat, dropoff_long):\n",
    "    # Pickup coordinates\n",
    "    p = np.stack(np.array([pickup_lat, pickup_long]).reshape(-1,1), axis = 1)\n",
    "\n",
    "    # Dropoff coordinates\n",
    "    d = np.stack(np.array([dropoff_lat, dropoff_long]).reshape(-1,1), axis = 1)\n",
    "    theta1 = np.radians(-28.904)\n",
    "    theta2 = np.radians(28.904)\n",
    "\n",
    "    ## Rotation matrix\n",
    "    R1 = np.array([[np.cos(theta1), np.sin(theta1)], \n",
    "                   [-np.sin(theta1), np.cos(theta1)]])\n",
    "    R2 = np.array([[np.cos(theta2), np.sin(theta2)], \n",
    "                   [-np.sin(theta2), np.cos(theta2)]])\n",
    "    # Rotate Pickup and Dropoff coordinates by -29 degress in World\n",
    "    pT = R1 @ p.T  \n",
    "    dT = R1 @ d.T\n",
    "    \n",
    "    # Coordinates of Hinge point in the rotated world \n",
    "    vT = np.stack((pT[0,:], dT[1,:]))\n",
    "    # Coordinates of Hinge point in the real world \n",
    "    v = R2 @ vT\n",
    "    return (great_circle_distance(p.T[0], p.T[1], v[0], v[1]) +\n",
    "            great_circle_distance(v[0],v[1], d.T[0],d.T[1] ))"
   ]
  },
  {
   "cell_type": "code",
   "execution_count": 11,
   "metadata": {
    "scrolled": true
   },
   "outputs": [
    {
     "data": {
      "text/plain": [
       "array([67.87])"
      ]
     },
     "execution_count": 11,
     "metadata": {},
     "output_type": "execute_result"
    }
   ],
   "source": [
    "manhattan_distance(origin[0], origin[1], destination[0], destination[1])"
   ]
  },
  {
   "cell_type": "markdown",
   "metadata": {},
   "source": [
    "### COSINE SIMILARITY"
   ]
  },
  {
   "cell_type": "code",
   "execution_count": 25,
   "metadata": {},
   "outputs": [],
   "source": [
    "#Define the documents\n",
    "\n",
    "asset_classes = \"Globally, fixed-income markets represent the largest asset class in financial markets, and most investors’ portfolios include fixed-income investments.\"\n",
    "\n",
    "alternative_investments = '''\n",
    "Assets under management in vehicles classified as alternative investments have grown rapidly since the mid-1990s. \n",
    "This growth has largely occurred because of interest in these investments by institutions, such as endowment and pension funds, as well as by high-net-worth individuals seeking diversification and return opportunities. Alternative investments are perceived to behave differently from traditional investments. Investors may seek either absolute return or relative return.\n",
    "Some investors hope alternative investments will provide positive returns throughout the economic cycle; this goal is an absolute return objective. \n",
    "Alternative investments are not free of risk, however, and their returns may be negative and/or correlated with other investments, including traditional investments, especially in periods of financial crisis. Some investors in alternative investments have a relative return objective. A relative return objective, which is often the objective of portfolios of traditional investment, seeks to achieve a return relative to an equity or a fixed-income benchmark.\n",
    "'''\n",
    "\n",
    "fixed_income = '''\n",
    "Globally, the fixed-income market is a key source of financing for businesses and governments.\n",
    "In fact, the total market value outstanding of corporate and government bonds is significantly larger than that of equity securities. Similarly, the fixed-income market, which is also called the debt market or bond market, represents a significant investing opportunity for institutions as well as individuals.\n",
    "Pension funds, mutual funds, insurance companies, and sovereign wealth funds, among others, are major fixed-income investors. Retirees who desire a relatively stable income stream often hold fixed-income securities. \n",
    "Clearly, understanding how to value fixed-income securities is important to investors, issuers, and financial analysts. This reading focuses on the valuation of traditional (option-free) fixed-rate bonds, although other debt securities, such as floating-rate notes and money market instruments, are also covered.\n",
    "'''\n",
    "\n",
    "documents = [asset_classes,alternative_investments, fixed_income ]"
   ]
  },
  {
   "cell_type": "code",
   "execution_count": 26,
   "metadata": {},
   "outputs": [
    {
     "name": "stdout",
     "output_type": "stream",
     "text": [
      "[[1.         0.27951888 0.42167707]\n",
      " [0.27951888 1.         0.34953574]\n",
      " [0.42167707 0.34953574 1.        ]]\n"
     ]
    }
   ],
   "source": [
    "#SciKit Learn\n",
    "from sklearn.feature_extraction.text import CountVectorizer\n",
    "import pandas as pd\n",
    "\n",
    "# Create the Document Term Matrix\n",
    "count_vectorizer = CountVectorizer(stop_words='english')\n",
    "count_vectorizer = CountVectorizer()\n",
    "sparse_matrix = count_vectorizer.fit_transform(documents)\n",
    "\n",
    "# OPTIONAL: Convert Sparse Matrix to Pandas Dataframe if you want to see the word frequencies.\n",
    "doc_term_matrix = sparse_matrix.todense()\n",
    "df = pd.DataFrame(doc_term_matrix, \n",
    "                  columns=count_vectorizer.get_feature_names(), \n",
    "                  index=['asset_classes', 'alternative_investments', 'fixed_income'])\n",
    "\n",
    "# Compute Cosine Similarity\n",
    "from sklearn.metrics.pairwise import cosine_similarity\n",
    "print(cosine_similarity(df, df))\n"
   ]
  },
  {
   "cell_type": "code",
   "execution_count": null,
   "metadata": {},
   "outputs": [],
   "source": []
  }
 ],
 "metadata": {
  "kernelspec": {
   "display_name": "Python 3",
   "language": "python",
   "name": "python3"
  },
  "language_info": {
   "codemirror_mode": {
    "name": "ipython",
    "version": 3
   },
   "file_extension": ".py",
   "mimetype": "text/x-python",
   "name": "python",
   "nbconvert_exporter": "python",
   "pygments_lexer": "ipython3",
   "version": "3.7.6"
  }
 },
 "nbformat": 4,
 "nbformat_minor": 4
}
